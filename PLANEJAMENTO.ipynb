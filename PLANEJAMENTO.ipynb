{
 "cells": [
  {
   "cell_type": "markdown",
   "metadata": {},
   "source": [
    "## Próximos passos\n",
    "\n",
    "### SEMANA 1 - NOVEMBRO \n",
    "*04-11 a 10-11*\n",
    "- Finalizar dataset (conjunto de fotos tagueadas) [DONE]\n",
    "- Implementar LDA para identificar o subespaço da cor\n",
    "- Utilizar Segmentação de Imagem para cortar as imagens conforme o grupo de produto [DONE]\n",
    "- Testes com cor: começar testes com buscas \n",
    "\n",
    "### SEMANA 2 - NOVEMBRO\n",
    "*11-11 a 17-11*\n",
    "- Pilar de MODELAGEM\n",
    "- Começar a escrever e estruturar documento\n",
    "\n",
    "### SEMANA 3 - NOVEMBRO\n",
    "*18-11 a 24-11*\n",
    "- Pilar de ESTAMPA\n",
    "- Progredir escrita do documento\n",
    "  \n",
    "### SEMANA 4 - NOVEMBRO\n",
    "*25-11 a 01-12*\n",
    "- Contruir interface para usuário\n",
    "- Finalizar documento"
   ]
  },
  {
   "cell_type": "markdown",
   "metadata": {},
   "source": [
    "---\n",
    "\n",
    "- [ ] Plotar espaços atuais usando t-SNE\n",
    "- [ ] Reduzir embeddings com LDA\n",
    "- [ ] Fazer simulações de busca com LDA\n",
    "- [ ] Progredir escrita do documento"
   ]
  }
 ],
 "metadata": {
  "language_info": {
   "name": "python"
  }
 },
 "nbformat": 4,
 "nbformat_minor": 2
}
