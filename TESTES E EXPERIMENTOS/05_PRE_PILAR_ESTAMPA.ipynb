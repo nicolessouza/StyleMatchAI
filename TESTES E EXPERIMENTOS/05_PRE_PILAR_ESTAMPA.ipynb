{
 "cells": [
  {
   "cell_type": "markdown",
   "metadata": {},
   "source": [
    "# Pré-processamento Pilar de Estampa"
   ]
  },
  {
   "cell_type": "markdown",
   "metadata": {},
   "source": [
    "Finalmente, nos resta identificar um subespaço do embedding que seja capaz de capturar a similaridade entre estampas. Para isso, vamos usar os atributos tagueados pelo gpt: ESTAMPA (tipo de estampa, como floral, listrado, etc), ZOOM_ESTAMPA (baixo, medio ou alto zoom) e LOCALIZACAO_ESTAMPA (se a estampa é localizada ou se espalha por toda a peça).\n",
    "\n",
    "Nesse notebook vamos analisar a distribuição desses atributos e como eles se relacionam com a similaridade entre estampas."
   ]
  },
  {
   "cell_type": "code",
   "execution_count": 27,
   "metadata": {},
   "outputs": [],
   "source": [
    "import pandas as pd\n",
    "import numpy as np\n",
    "import matplotlib.pyplot as plt\n",
    "import seaborn as sns"
   ]
  },
  {
   "cell_type": "code",
   "execution_count": 28,
   "metadata": {},
   "outputs": [],
   "source": [
    "# Importando base categorizada pelo gpt\n",
    "df_base_categorizada = pd.read_parquet('datasets/base_animale_categorizada_4o.parquet')"
   ]
  },
  {
   "cell_type": "code",
   "execution_count": 29,
   "metadata": {},
   "outputs": [
    {
     "name": "stdout",
     "output_type": "stream",
     "text": [
      "<class 'pandas.core.frame.DataFrame'>\n",
      "Int64Index: 766 entries, 0 to 765\n",
      "Data columns (total 28 columns):\n",
      " #   Column               Non-Null Count  Dtype \n",
      "---  ------               --------------  ----- \n",
      " 0   file_path            766 non-null    object\n",
      " 1   id_produto           766 non-null    object\n",
      " 2   grupo_produto        766 non-null    object\n",
      " 3   file_name            766 non-null    object\n",
      " 4   original_file_path   766 non-null    object\n",
      " 5   link                 766 non-null    object\n",
      " 6   PRODUTOS             765 non-null    object\n",
      " 7   CARACTERISTICAS      765 non-null    object\n",
      " 8   ESTAMPA              764 non-null    object\n",
      " 9   AMARRACAO_PESCOCO    215 non-null    object\n",
      " 10  COMPRIMENTO_BLAZER   18 non-null     object\n",
      " 11  COR_PREDOMINANTE     764 non-null    object\n",
      " 12  COMPRIMENTO_SHORT    27 non-null     object\n",
      " 13  MODELAGEM_SHORT      27 non-null     object\n",
      " 14  DECOTE_OU_GOLA       514 non-null    object\n",
      " 15  AMARRACAO_CORPO      746 non-null    object\n",
      " 16  ALTURA_COS           191 non-null    object\n",
      " 17  ESTILO               764 non-null    object\n",
      " 18  ZOOM_ESTAMPA         764 non-null    object\n",
      " 19  COMPRIMENTO_MANGA    532 non-null    object\n",
      " 20  FENDA_PERNA          420 non-null    object\n",
      " 21  LOCALIZACAO_ESTAMPA  764 non-null    object\n",
      " 22  COMPRIMENTO_CALCA    164 non-null    object\n",
      " 23  MODELAGEM_SAIA       256 non-null    object\n",
      " 24  MODELAGEM_BLAZER     18 non-null     object\n",
      " 25  MODELAGEM_CALCA      164 non-null    object\n",
      " 26  COMPRIMENTO_SAIA     256 non-null    object\n",
      " 27  COMPRIMENTO_BLUSA    299 non-null    object\n",
      "dtypes: object(28)\n",
      "memory usage: 173.5+ KB\n"
     ]
    }
   ],
   "source": [
    "df_base_categorizada.info()"
   ]
  },
  {
   "cell_type": "code",
   "execution_count": 30,
   "metadata": {},
   "outputs": [
    {
     "data": {
      "text/plain": [
       "SEM_ESTAMPA            546\n",
       "GEOMETRICO              48\n",
       "FLORAL                  40\n",
       "ANIMALPRINT_ONCA        30\n",
       "LISTRADO_VERTICAL       22\n",
       "ABSTRATO                18\n",
       "LISTRADO_HORIZONTAL     16\n",
       "MINIMALISTA             12\n",
       "ANIMALPRINT_COBRA       10\n",
       "POA                      7\n",
       "FOLHAGEM                 4\n",
       "XADREZ                   3\n",
       "LISTRADO_OUTRO           2\n",
       "OUTRA                    1\n",
       "TROPICAL                 1\n",
       "TIE_DYE                  1\n",
       "DEGRADE                  1\n",
       "ESTAMPA_ETNICA           1\n",
       "MARMORIZADA              1\n",
       "Name: ESTAMPA, dtype: int64"
      ]
     },
     "execution_count": 30,
     "metadata": {},
     "output_type": "execute_result"
    }
   ],
   "source": [
    "df_base_categorizada['ESTAMPA'].value_counts()\n",
    "\n",
    "# Parece ruim. Devo olhar pro cadastro de estampas e fazer um regex?"
   ]
  },
  {
   "cell_type": "code",
   "execution_count": 31,
   "metadata": {},
   "outputs": [
    {
     "data": {
      "text/plain": [
       "N/A        539\n",
       "MEDIO      121\n",
       "PEQUENO     74\n",
       "GRANDE      30\n",
       "Name: ZOOM_ESTAMPA, dtype: int64"
      ]
     },
     "execution_count": 31,
     "metadata": {},
     "output_type": "execute_result"
    }
   ],
   "source": [
    "df_base_categorizada['ZOOM_ESTAMPA'].value_counts()"
   ]
  },
  {
   "cell_type": "code",
   "execution_count": 32,
   "metadata": {},
   "outputs": [
    {
     "data": {
      "text/plain": [
       "N/A              538\n",
       "ROUPA_INTEIRA    226\n",
       "Name: LOCALIZACAO_ESTAMPA, dtype: int64"
      ]
     },
     "execution_count": 32,
     "metadata": {},
     "output_type": "execute_result"
    }
   ],
   "source": [
    "df_base_categorizada['LOCALIZACAO_ESTAMPA'].value_counts()\n",
    "\n",
    "# DISPENSAVEL?"
   ]
  },
  {
   "cell_type": "markdown",
   "metadata": {},
   "source": [
    "Puxando descrição da cor da base inicial"
   ]
  },
  {
   "cell_type": "code",
   "execution_count": 33,
   "metadata": {},
   "outputs": [],
   "source": [
    "base = pd.read_parquet('dataset_images/base_animale.parquet')"
   ]
  },
  {
   "cell_type": "code",
   "execution_count": 34,
   "metadata": {},
   "outputs": [
    {
     "data": {
      "text/html": [
       "<div>\n",
       "<style scoped>\n",
       "    .dataframe tbody tr th:only-of-type {\n",
       "        vertical-align: middle;\n",
       "    }\n",
       "\n",
       "    .dataframe tbody tr th {\n",
       "        vertical-align: top;\n",
       "    }\n",
       "\n",
       "    .dataframe thead th {\n",
       "        text-align: right;\n",
       "    }\n",
       "</style>\n",
       "<table border=\"1\" class=\"dataframe\">\n",
       "  <thead>\n",
       "    <tr style=\"text-align: right;\">\n",
       "      <th></th>\n",
       "      <th>shelf</th>\n",
       "      <th>href</th>\n",
       "      <th>imgs</th>\n",
       "      <th>descricao</th>\n",
       "      <th>preco</th>\n",
       "      <th>grupo</th>\n",
       "      <th>link 1° imagem</th>\n",
       "      <th>link produto</th>\n",
       "      <th>id</th>\n",
       "      <th>codigo</th>\n",
       "      <th>cor</th>\n",
       "    </tr>\n",
       "  </thead>\n",
       "  <tbody>\n",
       "    <tr>\n",
       "      <th>16</th>\n",
       "      <td>VERÃO 25</td>\n",
       "      <td>/vestido-de-seda-curto-frente-unica-estampado-...</td>\n",
       "      <td>[https://lojaanimale.vtexassets.com/arquivos/i...</td>\n",
       "      <td>vestido-de-seda-curto-frente-unica-estampado</td>\n",
       "      <td>R$ 1.698,00</td>\n",
       "      <td>vestido</td>\n",
       "      <td>https://lojaanimale.vtexassets.com/arquivos/id...</td>\n",
       "      <td>https://www.animale.com.br/vestido-de-seda-cur...</td>\n",
       "      <td>07-20-6833-09812</td>\n",
       "      <td>320140/p</td>\n",
       "      <td>est-loc-abstrato-solsticio-p</td>\n",
       "    </tr>\n",
       "    <tr>\n",
       "      <th>611</th>\n",
       "      <td>VERÃO 25</td>\n",
       "      <td>/calca-cenoura-clochard-com-faixa-de-algodao-p...</td>\n",
       "      <td>[https://lojaanimale.vtexassets.com/arquivos/i...</td>\n",
       "      <td>calca-cenoura-clochard-com-faixa-de-algodao-preta</td>\n",
       "      <td>R$ 598,00</td>\n",
       "      <td>calca</td>\n",
       "      <td>https://lojaanimale.vtexassets.com/arquivos/id...</td>\n",
       "      <td>https://www.animale.com.br/calca-cenoura-cloch...</td>\n",
       "      <td>25-34-1917-0005</td>\n",
       "      <td>317537/p</td>\n",
       "      <td>preto</td>\n",
       "    </tr>\n",
       "    <tr>\n",
       "      <th>497</th>\n",
       "      <td>VERÃO 25</td>\n",
       "      <td>/blusa-de-georgete-sem-alcas-franzido-bege-man...</td>\n",
       "      <td>[https://lojaanimale.vtexassets.com/arquivos/i...</td>\n",
       "      <td>blusa-de-georgete-sem-alcas-franzido</td>\n",
       "      <td>R$ 998,00</td>\n",
       "      <td>top-blusa</td>\n",
       "      <td>https://lojaanimale.vtexassets.com/arquivos/id...</td>\n",
       "      <td>https://www.animale.com.br/blusa-de-georgete-s...</td>\n",
       "      <td>52-13-5171-09041</td>\n",
       "      <td>304264/p</td>\n",
       "      <td>bege-manha</td>\n",
       "    </tr>\n",
       "  </tbody>\n",
       "</table>\n",
       "</div>"
      ],
      "text/plain": [
       "        shelf                                               href  \\\n",
       "16   VERÃO 25  /vestido-de-seda-curto-frente-unica-estampado-...   \n",
       "611  VERÃO 25  /calca-cenoura-clochard-com-faixa-de-algodao-p...   \n",
       "497  VERÃO 25  /blusa-de-georgete-sem-alcas-franzido-bege-man...   \n",
       "\n",
       "                                                  imgs  \\\n",
       "16   [https://lojaanimale.vtexassets.com/arquivos/i...   \n",
       "611  [https://lojaanimale.vtexassets.com/arquivos/i...   \n",
       "497  [https://lojaanimale.vtexassets.com/arquivos/i...   \n",
       "\n",
       "                                             descricao        preco  \\\n",
       "16        vestido-de-seda-curto-frente-unica-estampado  R$ 1.698,00   \n",
       "611  calca-cenoura-clochard-com-faixa-de-algodao-preta    R$ 598,00   \n",
       "497               blusa-de-georgete-sem-alcas-franzido    R$ 998,00   \n",
       "\n",
       "         grupo                                     link 1° imagem  \\\n",
       "16     vestido  https://lojaanimale.vtexassets.com/arquivos/id...   \n",
       "611      calca  https://lojaanimale.vtexassets.com/arquivos/id...   \n",
       "497  top-blusa  https://lojaanimale.vtexassets.com/arquivos/id...   \n",
       "\n",
       "                                          link produto                id  \\\n",
       "16   https://www.animale.com.br/vestido-de-seda-cur...  07-20-6833-09812   \n",
       "611  https://www.animale.com.br/calca-cenoura-cloch...   25-34-1917-0005   \n",
       "497  https://www.animale.com.br/blusa-de-georgete-s...  52-13-5171-09041   \n",
       "\n",
       "       codigo                           cor  \n",
       "16   320140/p  est-loc-abstrato-solsticio-p  \n",
       "611  317537/p                         preto  \n",
       "497  304264/p                    bege-manha  "
      ]
     },
     "execution_count": 34,
     "metadata": {},
     "output_type": "execute_result"
    }
   ],
   "source": [
    "base.sample(3)"
   ]
  },
  {
   "cell_type": "code",
   "execution_count": 35,
   "metadata": {},
   "outputs": [],
   "source": [
    "# Filtrar base para apenas id's que estão em df_base_categorizada\n",
    "base = base[base['id'].isin(df_base_categorizada['id_produto'])]"
   ]
  },
  {
   "cell_type": "code",
   "execution_count": 36,
   "metadata": {},
   "outputs": [
    {
     "name": "stdout",
     "output_type": "stream",
     "text": [
      "<class 'pandas.core.frame.DataFrame'>\n",
      "Int64Index: 766 entries, 0 to 891\n",
      "Data columns (total 11 columns):\n",
      " #   Column          Non-Null Count  Dtype \n",
      "---  ------          --------------  ----- \n",
      " 0   shelf           766 non-null    object\n",
      " 1   href            766 non-null    object\n",
      " 2   imgs            766 non-null    object\n",
      " 3   descricao       766 non-null    object\n",
      " 4   preco           766 non-null    object\n",
      " 5   grupo           766 non-null    object\n",
      " 6   link 1° imagem  766 non-null    object\n",
      " 7   link produto    766 non-null    object\n",
      " 8   id              766 non-null    object\n",
      " 9   codigo          766 non-null    object\n",
      " 10  cor             766 non-null    object\n",
      "dtypes: object(11)\n",
      "memory usage: 71.8+ KB\n"
     ]
    }
   ],
   "source": [
    "base.info()"
   ]
  },
  {
   "cell_type": "code",
   "execution_count": 37,
   "metadata": {},
   "outputs": [],
   "source": [
    "# Criando coluna que verifica com regex se a coluna cor contém a palavra 'est'\n",
    "base['ESTAMPADO'] = base['cor'].str.contains('est', case=False, na=False)"
   ]
  },
  {
   "cell_type": "code",
   "execution_count": 38,
   "metadata": {},
   "outputs": [
    {
     "data": {
      "text/plain": [
       "False    640\n",
       "True     126\n",
       "Name: ESTAMPADO, dtype: int64"
      ]
     },
     "execution_count": 38,
     "metadata": {},
     "output_type": "execute_result"
    }
   ],
   "source": [
    "base['ESTAMPADO'].value_counts()"
   ]
  },
  {
   "cell_type": "markdown",
   "metadata": {},
   "source": [
    "### Ok, talvez seja melhor confiar no cadastro"
   ]
  },
  {
   "cell_type": "markdown",
   "metadata": {},
   "source": [
    "abstrato, onca, floral, cobra, grafico, aquarela, listra, pois(poa), xadrez, folhagem, leopardo, geo(geometrico), liberty camomila (floral?), gravataria"
   ]
  },
  {
   "cell_type": "code",
   "execution_count": 39,
   "metadata": {},
   "outputs": [
    {
     "data": {
      "text/plain": [
       "est-pois-tri-preto-e-exotique               6\n",
       "est-gravataria-flor-preto-e-kirli           4\n",
       "est-geo-caminho                             4\n",
       "est-floral-cura-aquarius-m                  4\n",
       "est-onca-aquarela-biscoito                  4\n",
       "est-onca-moderna-color                      4\n",
       "est-cobra-biscione-marzipan                 4\n",
       "est-cobra-biscione-natureza                 4\n",
       "est-liberty-camomila-preto-p                4\n",
       "est-onca-nite-strawberry-p                  3\n",
       "est-onca-nite-color-p                       3\n",
       "est-abstrato-silhuetas-yucca                3\n",
       "est-floral-geometrico-block-color           3\n",
       "est-floral-leve-narciso                     3\n",
       "est-onca-elixir-color                       3\n",
       "est-pois-ciclos-tofu-e-preto                3\n",
       "est-onca-aquarela-forte-color-p             3\n",
       "est-floral-pastel-preto-e-leve              3\n",
       "est-onca-leve-flan                          3\n",
       "est-floral-cura-color-m                     3\n",
       "est-pois-passaro-marinho-p                  3\n",
       "est-pois-grafico-color                      3\n",
       "est-onca-solsticio                          3\n",
       "est-xadrez-daisy-kirli-e-cannes             2\n",
       "est-gravataria-flor-kirli-e-preto           2\n",
       "est-folhagem-sketch-golden                  2\n",
       "est-leopardo                                2\n",
       "est-listra-encontro-kirli-e-fiery           2\n",
       "est-geo-luas-fiery-p                        2\n",
       "est-pois-ciclos-golden-e-musgo              2\n",
       "est-xadrez-daisy-recorte-colorido           2\n",
       "est-listra-spirulina-color                  2\n",
       "est-textura-peixes-golden-e-solsticio       2\n",
       "est-floral-vagalume-color                   2\n",
       "est-listra-bicolor-narciso-e-sandalo-p      2\n",
       "est-floral-sketch-color                     2\n",
       "est-floral-garden-rum-e-vivo-m              2\n",
       "est-loc-abstrato-solsticio-p                2\n",
       "est-listra-bicolor-narciso-e-sandalo-p--    1\n",
       "est-gravataria-flor-preto-e-kirli--         1\n",
       "est-listra-cura-cogumelo-e-aura             1\n",
       "est-xadrez-daisy-colorido                   1\n",
       "est--floral-carimbo-golden                  1\n",
       "est-floral-carimbo-golden                   1\n",
       "est-floral-vagalume-lima                    1\n",
       "est-pois-tri-preto-e-exotique--             1\n",
       "est--lenco-pois-recote-g                    1\n",
       "est-onca-leve-e-flan                        1\n",
       "est-floral-sereno-preto-e-flan-m            1\n",
       "est-geo-caminho-preto-e-kirli               1\n",
       "est-listra-alquimia-print-e-kirli           1\n",
       "est-pois-grafic-color                       1\n",
       "est-floral-leve-color                       1\n",
       "est-lenco-pois-recote-g                     1\n",
       "Name: cor, dtype: int64"
      ]
     },
     "execution_count": 39,
     "metadata": {},
     "output_type": "execute_result"
    }
   ],
   "source": [
    "base.loc[base['ESTAMPADO'] == True, 'cor'].value_counts()"
   ]
  },
  {
   "cell_type": "code",
   "execution_count": null,
   "metadata": {},
   "outputs": [],
   "source": [
    "# possiveis estampas: abstrato, onca, floral, cobra, grafico, aquarela, listra, pois, xadrez, folhagem, leopardo, geo \n",
    "\n",
    "dict_estampas = {\n",
    "    'abstrato|peixes': 'abstrato',\n",
    "    'onca': 'onca',\n",
    "    'floral|camomila': 'floral',\n",
    "    'cobra': 'cobra',\n",
    "    # 'grafic': 'grafico',\n",
    "    'aquarela': 'aquarela',\n",
    "    'listra': 'listra',\n",
    "    'pois': 'poa',\n",
    "    'xadrez': 'xadrez',\n",
    "    'folhagem': 'folhagem',\n",
    "    'leopardo': 'leopardo',\n",
    "    'geo|gravataria': 'geometrico'\n",
    "}\n",
    "\n",
    "\n",
    "# Inicializando a coluna como None\n",
    "base['ESTAMPA_CADASTRO'] = None\n",
    "\n",
    "# Preenchendo com a estampa correspondente\n",
    "for estampa, valor in dict_estampas.items():\n",
    "    # Preenche apenas onde não há valor ainda e há correspondência\n",
    "    mask = base['cor'].str.contains(estampa, case=False, na=False) & base['ESTAMPA_CADASTRO'].isna() & base['ESTAMPADO']\n",
    "    base.loc[mask, 'ESTAMPA_CADASTRO'] = valor\n"
   ]
  },
  {
   "cell_type": "code",
   "execution_count": 41,
   "metadata": {},
   "outputs": [
    {
     "data": {
      "text/html": [
       "<div>\n",
       "<style scoped>\n",
       "    .dataframe tbody tr th:only-of-type {\n",
       "        vertical-align: middle;\n",
       "    }\n",
       "\n",
       "    .dataframe tbody tr th {\n",
       "        vertical-align: top;\n",
       "    }\n",
       "\n",
       "    .dataframe thead th {\n",
       "        text-align: right;\n",
       "    }\n",
       "</style>\n",
       "<table border=\"1\" class=\"dataframe\">\n",
       "  <thead>\n",
       "    <tr style=\"text-align: right;\">\n",
       "      <th></th>\n",
       "      <th>shelf</th>\n",
       "      <th>href</th>\n",
       "      <th>imgs</th>\n",
       "      <th>descricao</th>\n",
       "      <th>preco</th>\n",
       "      <th>grupo</th>\n",
       "      <th>link 1° imagem</th>\n",
       "      <th>link produto</th>\n",
       "      <th>id</th>\n",
       "      <th>codigo</th>\n",
       "      <th>cor</th>\n",
       "      <th>ESTAMPADO</th>\n",
       "      <th>ESTAMPA_CADASTRO</th>\n",
       "    </tr>\n",
       "  </thead>\n",
       "  <tbody>\n",
       "    <tr>\n",
       "      <th>583</th>\n",
       "      <td>VERÃO 25</td>\n",
       "      <td>/calca-com-cos-transpassado-bege-gergelim-bege...</td>\n",
       "      <td>[https://lojaanimale.vtexassets.com/arquivos/i...</td>\n",
       "      <td>calca-com-cos-transpassado-bege-gergelim</td>\n",
       "      <td>R$ 1.198,00</td>\n",
       "      <td>calca</td>\n",
       "      <td>https://lojaanimale.vtexassets.com/arquivos/id...</td>\n",
       "      <td>https://www.animale.com.br/calca-com-cos-trans...</td>\n",
       "      <td>25-34-1600-09247</td>\n",
       "      <td>312995/p</td>\n",
       "      <td>bege-gergelim</td>\n",
       "      <td>False</td>\n",
       "      <td>None</td>\n",
       "    </tr>\n",
       "    <tr>\n",
       "      <th>454</th>\n",
       "      <td>VERÃO 25</td>\n",
       "      <td>/blusa-decote-v-e-manga-longa-raglan-de-malha-...</td>\n",
       "      <td>[https://lojaanimale.vtexassets.com/arquivos/i...</td>\n",
       "      <td>blusa-decote-v-e-manga-longa-raglan-de-malha</td>\n",
       "      <td>R$ 228,00</td>\n",
       "      <td>top-blusa</td>\n",
       "      <td>https://lojaanimale.vtexassets.com/arquivos/id...</td>\n",
       "      <td>https://www.animale.com.br/blusa-decote-v-e-ma...</td>\n",
       "      <td>52-13-5461-09253</td>\n",
       "      <td>315755/p</td>\n",
       "      <td>verde-encanto</td>\n",
       "      <td>False</td>\n",
       "      <td>None</td>\n",
       "    </tr>\n",
       "    <tr>\n",
       "      <th>452</th>\n",
       "      <td>VERÃO 25</td>\n",
       "      <td>/blusa-de-georgette-verde-com-tunel-no-decote-...</td>\n",
       "      <td>[https://lojaanimale.vtexassets.com/arquivos/i...</td>\n",
       "      <td>blusa-de-georgette-verde-com-tunel-no-decote</td>\n",
       "      <td>R$ 558,00</td>\n",
       "      <td>top-blusa</td>\n",
       "      <td>https://lojaanimale.vtexassets.com/arquivos/id...</td>\n",
       "      <td>https://www.animale.com.br/blusa-de-georgette-...</td>\n",
       "      <td>52-13-5394-09253</td>\n",
       "      <td>312165/p</td>\n",
       "      <td>verde-encanto</td>\n",
       "      <td>False</td>\n",
       "      <td>None</td>\n",
       "    </tr>\n",
       "    <tr>\n",
       "      <th>499</th>\n",
       "      <td>VERÃO 25</td>\n",
       "      <td>/blusa-de-tricot-com-textura-preta-manga-longa...</td>\n",
       "      <td>[https://lojaanimale.vtexassets.com/arquivos/i...</td>\n",
       "      <td>blusa-de-tricot-com-textura-preta-manga-longa</td>\n",
       "      <td>R$ 698,00</td>\n",
       "      <td>top-blusa</td>\n",
       "      <td>https://lojaanimale.vtexassets.com/arquivos/id...</td>\n",
       "      <td>https://www.animale.com.br/blusa-de-tricot-com...</td>\n",
       "      <td>52-13-4821-0005</td>\n",
       "      <td>304735/p</td>\n",
       "      <td>preto</td>\n",
       "      <td>False</td>\n",
       "      <td>None</td>\n",
       "    </tr>\n",
       "    <tr>\n",
       "      <th>730</th>\n",
       "      <td>VERÃO 25</td>\n",
       "      <td>/mini-saia-em-estampa-cobra-verde-25-11-1173-0...</td>\n",
       "      <td>[https://lojaanimale.vtexassets.com/arquivos/i...</td>\n",
       "      <td>mini-saia-em-estampa-cobra</td>\n",
       "      <td>R$ 598,00</td>\n",
       "      <td>saia</td>\n",
       "      <td>https://lojaanimale.vtexassets.com/arquivos/id...</td>\n",
       "      <td>https://www.animale.com.br/mini-saia-em-estamp...</td>\n",
       "      <td>25-11-1173-0300</td>\n",
       "      <td>308520/p</td>\n",
       "      <td>verde</td>\n",
       "      <td>False</td>\n",
       "      <td>None</td>\n",
       "    </tr>\n",
       "  </tbody>\n",
       "</table>\n",
       "</div>"
      ],
      "text/plain": [
       "        shelf                                               href  \\\n",
       "583  VERÃO 25  /calca-com-cos-transpassado-bege-gergelim-bege...   \n",
       "454  VERÃO 25  /blusa-decote-v-e-manga-longa-raglan-de-malha-...   \n",
       "452  VERÃO 25  /blusa-de-georgette-verde-com-tunel-no-decote-...   \n",
       "499  VERÃO 25  /blusa-de-tricot-com-textura-preta-manga-longa...   \n",
       "730  VERÃO 25  /mini-saia-em-estampa-cobra-verde-25-11-1173-0...   \n",
       "\n",
       "                                                  imgs  \\\n",
       "583  [https://lojaanimale.vtexassets.com/arquivos/i...   \n",
       "454  [https://lojaanimale.vtexassets.com/arquivos/i...   \n",
       "452  [https://lojaanimale.vtexassets.com/arquivos/i...   \n",
       "499  [https://lojaanimale.vtexassets.com/arquivos/i...   \n",
       "730  [https://lojaanimale.vtexassets.com/arquivos/i...   \n",
       "\n",
       "                                         descricao        preco      grupo  \\\n",
       "583       calca-com-cos-transpassado-bege-gergelim  R$ 1.198,00      calca   \n",
       "454   blusa-decote-v-e-manga-longa-raglan-de-malha    R$ 228,00  top-blusa   \n",
       "452   blusa-de-georgette-verde-com-tunel-no-decote    R$ 558,00  top-blusa   \n",
       "499  blusa-de-tricot-com-textura-preta-manga-longa    R$ 698,00  top-blusa   \n",
       "730                     mini-saia-em-estampa-cobra    R$ 598,00       saia   \n",
       "\n",
       "                                        link 1° imagem  \\\n",
       "583  https://lojaanimale.vtexassets.com/arquivos/id...   \n",
       "454  https://lojaanimale.vtexassets.com/arquivos/id...   \n",
       "452  https://lojaanimale.vtexassets.com/arquivos/id...   \n",
       "499  https://lojaanimale.vtexassets.com/arquivos/id...   \n",
       "730  https://lojaanimale.vtexassets.com/arquivos/id...   \n",
       "\n",
       "                                          link produto                id  \\\n",
       "583  https://www.animale.com.br/calca-com-cos-trans...  25-34-1600-09247   \n",
       "454  https://www.animale.com.br/blusa-decote-v-e-ma...  52-13-5461-09253   \n",
       "452  https://www.animale.com.br/blusa-de-georgette-...  52-13-5394-09253   \n",
       "499  https://www.animale.com.br/blusa-de-tricot-com...   52-13-4821-0005   \n",
       "730  https://www.animale.com.br/mini-saia-em-estamp...   25-11-1173-0300   \n",
       "\n",
       "       codigo            cor  ESTAMPADO ESTAMPA_CADASTRO  \n",
       "583  312995/p  bege-gergelim      False             None  \n",
       "454  315755/p  verde-encanto      False             None  \n",
       "452  312165/p  verde-encanto      False             None  \n",
       "499  304735/p          preto      False             None  \n",
       "730  308520/p          verde      False             None  "
      ]
     },
     "execution_count": 41,
     "metadata": {},
     "output_type": "execute_result"
    }
   ],
   "source": [
    "base.sample(5)"
   ]
  },
  {
   "cell_type": "code",
   "execution_count": 42,
   "metadata": {},
   "outputs": [
    {
     "name": "stdout",
     "output_type": "stream",
     "text": [
      "<class 'pandas.core.frame.DataFrame'>\n",
      "Int64Index: 766 entries, 0 to 891\n",
      "Data columns (total 13 columns):\n",
      " #   Column            Non-Null Count  Dtype \n",
      "---  ------            --------------  ----- \n",
      " 0   shelf             766 non-null    object\n",
      " 1   href              766 non-null    object\n",
      " 2   imgs              766 non-null    object\n",
      " 3   descricao         766 non-null    object\n",
      " 4   preco             766 non-null    object\n",
      " 5   grupo             766 non-null    object\n",
      " 6   link 1° imagem    766 non-null    object\n",
      " 7   link produto      766 non-null    object\n",
      " 8   id                766 non-null    object\n",
      " 9   codigo            766 non-null    object\n",
      " 10  cor               766 non-null    object\n",
      " 11  ESTAMPADO         766 non-null    bool  \n",
      " 12  ESTAMPA_CADASTRO  126 non-null    object\n",
      "dtypes: bool(1), object(12)\n",
      "memory usage: 78.5+ KB\n"
     ]
    }
   ],
   "source": [
    "base.info()"
   ]
  },
  {
   "cell_type": "code",
   "execution_count": 43,
   "metadata": {},
   "outputs": [
    {
     "data": {
      "text/plain": [
       "False    640\n",
       "True     126\n",
       "Name: ESTAMPADO, dtype: int64"
      ]
     },
     "execution_count": 43,
     "metadata": {},
     "output_type": "execute_result"
    }
   ],
   "source": [
    "base['ESTAMPADO'].value_counts()"
   ]
  },
  {
   "cell_type": "code",
   "execution_count": 44,
   "metadata": {},
   "outputs": [
    {
     "data": {
      "text/plain": [
       "floral        31\n",
       "onca          27\n",
       "poa           21\n",
       "geometrico    14\n",
       "listra         9\n",
       "cobra          8\n",
       "abstrato       7\n",
       "xadrez         5\n",
       "leopardo       2\n",
       "folhagem       2\n",
       "Name: ESTAMPA_CADASTRO, dtype: int64"
      ]
     },
     "execution_count": 44,
     "metadata": {},
     "output_type": "execute_result"
    }
   ],
   "source": [
    "base['ESTAMPA_CADASTRO'].value_counts()"
   ]
  },
  {
   "cell_type": "code",
   "execution_count": 45,
   "metadata": {},
   "outputs": [
    {
     "data": {
      "text/plain": [
       "Series([], Name: cor, dtype: int64)"
      ]
     },
     "execution_count": 45,
     "metadata": {},
     "output_type": "execute_result"
    }
   ],
   "source": [
    "# Quem que é estampado e não tem estampa cadastrada?\n",
    "base.loc[(base['ESTAMPADO'] == True) & (base['ESTAMPA_CADASTRO'].isna()), 'cor'].value_counts()"
   ]
  },
  {
   "cell_type": "markdown",
   "metadata": {},
   "source": [
    "Temos as estampas dos 165 que são estampados, o resto sabemos que é liso."
   ]
  },
  {
   "cell_type": "markdown",
   "metadata": {},
   "source": [
    "Agora, nossa tarefa envolve:\n",
    "- 1. Classificar se é ESTAMPADO ou LISO\n",
    "- 2. Se for estampado, classificar o tipo de estampa (floral, listrado, etc)"
   ]
  },
  {
   "cell_type": "code",
   "execution_count": 46,
   "metadata": {},
   "outputs": [
    {
     "data": {
      "text/plain": [
       "Index(['shelf', 'href', 'imgs', 'descricao', 'preco', 'grupo',\n",
       "       'link 1° imagem', 'link produto', 'id', 'codigo', 'cor', 'ESTAMPADO',\n",
       "       'ESTAMPA_CADASTRO'],\n",
       "      dtype='object')"
      ]
     },
     "execution_count": 46,
     "metadata": {},
     "output_type": "execute_result"
    }
   ],
   "source": [
    "base.columns"
   ]
  },
  {
   "cell_type": "code",
   "execution_count": 47,
   "metadata": {},
   "outputs": [
    {
     "data": {
      "text/html": [
       "<div>\n",
       "<style scoped>\n",
       "    .dataframe tbody tr th:only-of-type {\n",
       "        vertical-align: middle;\n",
       "    }\n",
       "\n",
       "    .dataframe tbody tr th {\n",
       "        vertical-align: top;\n",
       "    }\n",
       "\n",
       "    .dataframe thead th {\n",
       "        text-align: right;\n",
       "    }\n",
       "</style>\n",
       "<table border=\"1\" class=\"dataframe\">\n",
       "  <thead>\n",
       "    <tr style=\"text-align: right;\">\n",
       "      <th></th>\n",
       "      <th>shelf</th>\n",
       "      <th>href</th>\n",
       "      <th>imgs</th>\n",
       "      <th>descricao</th>\n",
       "      <th>preco</th>\n",
       "      <th>grupo</th>\n",
       "      <th>link 1° imagem</th>\n",
       "      <th>link produto</th>\n",
       "      <th>id</th>\n",
       "      <th>codigo</th>\n",
       "      <th>cor</th>\n",
       "      <th>ESTAMPADO</th>\n",
       "      <th>ESTAMPA_CADASTRO</th>\n",
       "    </tr>\n",
       "  </thead>\n",
       "  <tbody>\n",
       "    <tr>\n",
       "      <th>158</th>\n",
       "      <td>VERÃO 25</td>\n",
       "      <td>/vestido-mini-sem-alca-garden-bege-whitecap-07...</td>\n",
       "      <td>[https://lojaanimale.vtexassets.com/arquivos/i...</td>\n",
       "      <td>vestido-mini-sem-alca-garden</td>\n",
       "      <td>R$ 1.398,00</td>\n",
       "      <td>vestido</td>\n",
       "      <td>https://lojaanimale.vtexassets.com/arquivos/id...</td>\n",
       "      <td>https://www.animale.com.br/vestido-mini-sem-al...</td>\n",
       "      <td>07-20-6379-04346</td>\n",
       "      <td>309196/p</td>\n",
       "      <td>bege-whitecap</td>\n",
       "      <td>False</td>\n",
       "      <td>None</td>\n",
       "    </tr>\n",
       "    <tr>\n",
       "      <th>814</th>\n",
       "      <td>VERÃO 25</td>\n",
       "      <td>/short-de-couro-curto-pregas-preto-25-05-3986-...</td>\n",
       "      <td>[https://lojaanimale.vtexassets.com/arquivos/i...</td>\n",
       "      <td>short-de-couro-curto-pregas</td>\n",
       "      <td>R$ 3.798,00</td>\n",
       "      <td>short</td>\n",
       "      <td>https://lojaanimale.vtexassets.com/arquivos/id...</td>\n",
       "      <td>https://www.animale.com.br/short-de-couro-curt...</td>\n",
       "      <td>25-05-3986-0005</td>\n",
       "      <td>301184/p</td>\n",
       "      <td>preto</td>\n",
       "      <td>False</td>\n",
       "      <td>None</td>\n",
       "    </tr>\n",
       "    <tr>\n",
       "      <th>644</th>\n",
       "      <td>VERÃO 25</td>\n",
       "      <td>/calca-de-couro-cos-abaulado-lilas-nuvem-25-34...</td>\n",
       "      <td>[https://lojaanimale.vtexassets.com/arquivos/i...</td>\n",
       "      <td>calca-de-couro-cos-abaulado</td>\n",
       "      <td>R$ 5.298,00</td>\n",
       "      <td>calca</td>\n",
       "      <td>https://lojaanimale.vtexassets.com/arquivos/id...</td>\n",
       "      <td>https://www.animale.com.br/calca-de-couro-cos-...</td>\n",
       "      <td>25-34-1442-09040</td>\n",
       "      <td>301259/p</td>\n",
       "      <td>lilas-nuvem</td>\n",
       "      <td>False</td>\n",
       "      <td>None</td>\n",
       "    </tr>\n",
       "  </tbody>\n",
       "</table>\n",
       "</div>"
      ],
      "text/plain": [
       "        shelf                                               href  \\\n",
       "158  VERÃO 25  /vestido-mini-sem-alca-garden-bege-whitecap-07...   \n",
       "814  VERÃO 25  /short-de-couro-curto-pregas-preto-25-05-3986-...   \n",
       "644  VERÃO 25  /calca-de-couro-cos-abaulado-lilas-nuvem-25-34...   \n",
       "\n",
       "                                                  imgs  \\\n",
       "158  [https://lojaanimale.vtexassets.com/arquivos/i...   \n",
       "814  [https://lojaanimale.vtexassets.com/arquivos/i...   \n",
       "644  [https://lojaanimale.vtexassets.com/arquivos/i...   \n",
       "\n",
       "                        descricao        preco    grupo  \\\n",
       "158  vestido-mini-sem-alca-garden  R$ 1.398,00  vestido   \n",
       "814   short-de-couro-curto-pregas  R$ 3.798,00    short   \n",
       "644   calca-de-couro-cos-abaulado  R$ 5.298,00    calca   \n",
       "\n",
       "                                        link 1° imagem  \\\n",
       "158  https://lojaanimale.vtexassets.com/arquivos/id...   \n",
       "814  https://lojaanimale.vtexassets.com/arquivos/id...   \n",
       "644  https://lojaanimale.vtexassets.com/arquivos/id...   \n",
       "\n",
       "                                          link produto                id  \\\n",
       "158  https://www.animale.com.br/vestido-mini-sem-al...  07-20-6379-04346   \n",
       "814  https://www.animale.com.br/short-de-couro-curt...   25-05-3986-0005   \n",
       "644  https://www.animale.com.br/calca-de-couro-cos-...  25-34-1442-09040   \n",
       "\n",
       "       codigo            cor  ESTAMPADO ESTAMPA_CADASTRO  \n",
       "158  309196/p  bege-whitecap      False             None  \n",
       "814  301184/p          preto      False             None  \n",
       "644  301259/p    lilas-nuvem      False             None  "
      ]
     },
     "execution_count": 47,
     "metadata": {},
     "output_type": "execute_result"
    }
   ],
   "source": [
    "base.sample(3)"
   ]
  },
  {
   "cell_type": "code",
   "execution_count": 48,
   "metadata": {},
   "outputs": [],
   "source": [
    "df_estampa = base[['id', 'descricao', 'cor', 'ESTAMPADO', 'ESTAMPA_CADASTRO']]"
   ]
  },
  {
   "cell_type": "code",
   "execution_count": 49,
   "metadata": {},
   "outputs": [
    {
     "data": {
      "text/html": [
       "<div>\n",
       "<style scoped>\n",
       "    .dataframe tbody tr th:only-of-type {\n",
       "        vertical-align: middle;\n",
       "    }\n",
       "\n",
       "    .dataframe tbody tr th {\n",
       "        vertical-align: top;\n",
       "    }\n",
       "\n",
       "    .dataframe thead th {\n",
       "        text-align: right;\n",
       "    }\n",
       "</style>\n",
       "<table border=\"1\" class=\"dataframe\">\n",
       "  <thead>\n",
       "    <tr style=\"text-align: right;\">\n",
       "      <th></th>\n",
       "      <th>id</th>\n",
       "      <th>descricao</th>\n",
       "      <th>cor</th>\n",
       "      <th>ESTAMPADO</th>\n",
       "      <th>ESTAMPA_CADASTRO</th>\n",
       "    </tr>\n",
       "  </thead>\n",
       "  <tbody>\n",
       "    <tr>\n",
       "      <th>586</th>\n",
       "      <td>25-34-1654-0005</td>\n",
       "      <td>calca-reta-preta-com-pregas</td>\n",
       "      <td>preto</td>\n",
       "      <td>False</td>\n",
       "      <td>None</td>\n",
       "    </tr>\n",
       "    <tr>\n",
       "      <th>577</th>\n",
       "      <td>25-34-1720-0005</td>\n",
       "      <td>calca-de-georgette-pesado-ampla-preta-cos-com-...</td>\n",
       "      <td>preto</td>\n",
       "      <td>False</td>\n",
       "      <td>None</td>\n",
       "    </tr>\n",
       "    <tr>\n",
       "      <th>27</th>\n",
       "      <td>07-20-6778-0005</td>\n",
       "      <td>vestido-tricot-transparencia</td>\n",
       "      <td>preto</td>\n",
       "      <td>False</td>\n",
       "      <td>None</td>\n",
       "    </tr>\n",
       "    <tr>\n",
       "      <th>98</th>\n",
       "      <td>07-20-6547-09621</td>\n",
       "      <td>vestido-de-georgette-longo-com-pregas-estampado</td>\n",
       "      <td>est-onca-moderna-color</td>\n",
       "      <td>True</td>\n",
       "      <td>onca</td>\n",
       "    </tr>\n",
       "    <tr>\n",
       "      <th>203</th>\n",
       "      <td>07-20-6200-0005</td>\n",
       "      <td>vestido-de-couro-midi-alca-recortes</td>\n",
       "      <td>preto</td>\n",
       "      <td>False</td>\n",
       "      <td>None</td>\n",
       "    </tr>\n",
       "  </tbody>\n",
       "</table>\n",
       "</div>"
      ],
      "text/plain": [
       "                   id                                          descricao  \\\n",
       "586   25-34-1654-0005                        calca-reta-preta-com-pregas   \n",
       "577   25-34-1720-0005  calca-de-georgette-pesado-ampla-preta-cos-com-...   \n",
       "27    07-20-6778-0005                       vestido-tricot-transparencia   \n",
       "98   07-20-6547-09621    vestido-de-georgette-longo-com-pregas-estampado   \n",
       "203   07-20-6200-0005                vestido-de-couro-midi-alca-recortes   \n",
       "\n",
       "                        cor  ESTAMPADO ESTAMPA_CADASTRO  \n",
       "586                   preto      False             None  \n",
       "577                   preto      False             None  \n",
       "27                    preto      False             None  \n",
       "98   est-onca-moderna-color       True             onca  \n",
       "203                   preto      False             None  "
      ]
     },
     "execution_count": 49,
     "metadata": {},
     "output_type": "execute_result"
    }
   ],
   "source": [
    "df_estampa.sample(5)"
   ]
  },
  {
   "cell_type": "code",
   "execution_count": 50,
   "metadata": {},
   "outputs": [
    {
     "name": "stdout",
     "output_type": "stream",
     "text": [
      "<class 'pandas.core.frame.DataFrame'>\n",
      "Int64Index: 766 entries, 0 to 891\n",
      "Data columns (total 5 columns):\n",
      " #   Column            Non-Null Count  Dtype \n",
      "---  ------            --------------  ----- \n",
      " 0   id                766 non-null    object\n",
      " 1   descricao         766 non-null    object\n",
      " 2   cor               766 non-null    object\n",
      " 3   ESTAMPADO         766 non-null    bool  \n",
      " 4   ESTAMPA_CADASTRO  126 non-null    object\n",
      "dtypes: bool(1), object(4)\n",
      "memory usage: 30.7+ KB\n"
     ]
    }
   ],
   "source": [
    "df_estampa.info()"
   ]
  },
  {
   "cell_type": "code",
   "execution_count": 52,
   "metadata": {},
   "outputs": [
    {
     "data": {
      "text/plain": [
       "floral        31\n",
       "onca          27\n",
       "poa           21\n",
       "geometrico    14\n",
       "listra         9\n",
       "cobra          8\n",
       "abstrato       7\n",
       "xadrez         5\n",
       "leopardo       2\n",
       "folhagem       2\n",
       "Name: ESTAMPA_CADASTRO, dtype: int64"
      ]
     },
     "execution_count": 52,
     "metadata": {},
     "output_type": "execute_result"
    }
   ],
   "source": [
    "df_estampa['ESTAMPA_CADASTRO'].value_counts()"
   ]
  },
  {
   "cell_type": "code",
   "execution_count": 51,
   "metadata": {},
   "outputs": [],
   "source": [
    "# Salvando em datasets/PILAR_ESTAMPA\n",
    "df_estampa.to_parquet('datasets/PILAR_ESTAMPA/df_estampa.parquet')"
   ]
  }
 ],
 "metadata": {
  "kernelspec": {
   "display_name": "Python 3",
   "language": "python",
   "name": "python3"
  },
  "language_info": {
   "codemirror_mode": {
    "name": "ipython",
    "version": 3
   },
   "file_extension": ".py",
   "mimetype": "text/x-python",
   "name": "python",
   "nbconvert_exporter": "python",
   "pygments_lexer": "ipython3",
   "version": "3.11.1"
  }
 },
 "nbformat": 4,
 "nbformat_minor": 2
}
